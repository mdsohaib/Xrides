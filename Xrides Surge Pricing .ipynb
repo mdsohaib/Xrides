{
 "cells": [
  {
   "cell_type": "markdown",
   "metadata": {},
   "source": [
    "## Data Description:\n",
    "●\tid - booking ID\n",
    "\n",
    "●\tuser_id - the ID of the customer (based on mobile number)\n",
    "\n",
    "●\tvehicle_model_id - vehicle model type.\n",
    "\n",
    "●\tpackage_id - type of package (1=4hrs & 40kms, 2=8hrs & 80kms, 3=6hrs & 60kms, 4= 10hrs & 100kms, 5=5hrs & 50kms, 6=3hrs & 30kms, 7=12hrs & 120kms)\n",
    "\n",
    "●\ttravel_type_id - type of travel (1=long distance, 2= point to point, 3= hourly rental).\n",
    "\n",
    "●\tfrom_area_id - unique identifier of area. Applicable only for point-to-point travel and packages\n",
    "\n",
    "●\tto_area_id - unique identifier of area. Applicable only for point-to-point travel\n",
    "\n",
    "●\tfrom_city_id - unique identifier of city\n",
    "\n",
    "●\tto_city_id - unique identifier of the city (only for intercity)\n",
    "\n",
    "●\tfrom_date - timestamp of the requested trip start\n",
    "\n",
    "●\tto_date - timestamp of the trip end\n",
    "\n",
    "●\tonline_booking - if the booking was done on the desktop website\n",
    "\n",
    "●\tmobile_site_booking - if the booking was done on mobile website\n",
    "\n",
    "●\tbooking_created - time stamp of booking\n",
    "\n",
    "●\tfrom_lat - latitude of from area\n",
    "\n",
    "●\tfrom_long -  longitude of from  area\n",
    "\n",
    "●\tto_lat - latitude of to area\n",
    "\n",
    "●\tto_long - longitude of to area\n",
    "\n",
    "●\tcar_cancellation - whether the booking was canceled (1) or not (0) due to unavailability of a car.\n"
   ]
  },
  {
   "cell_type": "code",
   "execution_count": 1,
   "metadata": {},
   "outputs": [],
   "source": [
    "#importing libraries\n",
    "import numpy as np\n",
    "import pandas as pd\n",
    "import matplotlib.pyplot as plt\n",
    "import seaborn as sns\n"
   ]
  },
  {
   "cell_type": "code",
   "execution_count": 2,
   "metadata": {},
   "outputs": [],
   "source": [
    "#importing data set\n",
    "df= pd.read_csv('data.csv')"
   ]
  },
  {
   "cell_type": "code",
   "execution_count": 3,
   "metadata": {},
   "outputs": [
    {
     "data": {
      "text/html": [
       "<div>\n",
       "<style scoped>\n",
       "    .dataframe tbody tr th:only-of-type {\n",
       "        vertical-align: middle;\n",
       "    }\n",
       "\n",
       "    .dataframe tbody tr th {\n",
       "        vertical-align: top;\n",
       "    }\n",
       "\n",
       "    .dataframe thead th {\n",
       "        text-align: right;\n",
       "    }\n",
       "</style>\n",
       "<table border=\"1\" class=\"dataframe\">\n",
       "  <thead>\n",
       "    <tr style=\"text-align: right;\">\n",
       "      <th></th>\n",
       "      <th>id</th>\n",
       "      <th>user_id</th>\n",
       "      <th>vehicle_model_id</th>\n",
       "      <th>package_id</th>\n",
       "      <th>travel_type_id</th>\n",
       "      <th>from_area_id</th>\n",
       "      <th>to_area_id</th>\n",
       "      <th>from_city_id</th>\n",
       "      <th>to_city_id</th>\n",
       "      <th>from_date</th>\n",
       "      <th>to_date</th>\n",
       "      <th>online_booking</th>\n",
       "      <th>mobile_site_booking</th>\n",
       "      <th>booking_created</th>\n",
       "      <th>from_lat</th>\n",
       "      <th>from_long</th>\n",
       "      <th>to_lat</th>\n",
       "      <th>to_long</th>\n",
       "      <th>Car_Cancellation</th>\n",
       "    </tr>\n",
       "  </thead>\n",
       "  <tbody>\n",
       "    <tr>\n",
       "      <th>0</th>\n",
       "      <td>132512</td>\n",
       "      <td>22177</td>\n",
       "      <td>28</td>\n",
       "      <td>NaN</td>\n",
       "      <td>2</td>\n",
       "      <td>83.0</td>\n",
       "      <td>448.0</td>\n",
       "      <td>NaN</td>\n",
       "      <td>NaN</td>\n",
       "      <td>1/1/2013 2:00</td>\n",
       "      <td>NaN</td>\n",
       "      <td>0</td>\n",
       "      <td>0</td>\n",
       "      <td>1/1/2013 1:39</td>\n",
       "      <td>12.924150</td>\n",
       "      <td>77.672290</td>\n",
       "      <td>12.927320</td>\n",
       "      <td>77.635750</td>\n",
       "      <td>0</td>\n",
       "    </tr>\n",
       "    <tr>\n",
       "      <th>1</th>\n",
       "      <td>132513</td>\n",
       "      <td>21413</td>\n",
       "      <td>12</td>\n",
       "      <td>NaN</td>\n",
       "      <td>2</td>\n",
       "      <td>1010.0</td>\n",
       "      <td>540.0</td>\n",
       "      <td>NaN</td>\n",
       "      <td>NaN</td>\n",
       "      <td>1/1/2013 9:00</td>\n",
       "      <td>NaN</td>\n",
       "      <td>0</td>\n",
       "      <td>0</td>\n",
       "      <td>1/1/2013 2:25</td>\n",
       "      <td>12.966910</td>\n",
       "      <td>77.749350</td>\n",
       "      <td>12.927680</td>\n",
       "      <td>77.626640</td>\n",
       "      <td>0</td>\n",
       "    </tr>\n",
       "    <tr>\n",
       "      <th>2</th>\n",
       "      <td>132514</td>\n",
       "      <td>22178</td>\n",
       "      <td>12</td>\n",
       "      <td>NaN</td>\n",
       "      <td>2</td>\n",
       "      <td>1301.0</td>\n",
       "      <td>1034.0</td>\n",
       "      <td>NaN</td>\n",
       "      <td>NaN</td>\n",
       "      <td>1/1/2013 3:30</td>\n",
       "      <td>NaN</td>\n",
       "      <td>0</td>\n",
       "      <td>0</td>\n",
       "      <td>1/1/2013 3:08</td>\n",
       "      <td>12.937222</td>\n",
       "      <td>77.626915</td>\n",
       "      <td>13.047926</td>\n",
       "      <td>77.597766</td>\n",
       "      <td>0</td>\n",
       "    </tr>\n",
       "    <tr>\n",
       "      <th>3</th>\n",
       "      <td>132515</td>\n",
       "      <td>13034</td>\n",
       "      <td>12</td>\n",
       "      <td>NaN</td>\n",
       "      <td>2</td>\n",
       "      <td>768.0</td>\n",
       "      <td>398.0</td>\n",
       "      <td>NaN</td>\n",
       "      <td>NaN</td>\n",
       "      <td>1/1/2013 5:45</td>\n",
       "      <td>NaN</td>\n",
       "      <td>0</td>\n",
       "      <td>0</td>\n",
       "      <td>1/1/2013 4:39</td>\n",
       "      <td>12.989990</td>\n",
       "      <td>77.553320</td>\n",
       "      <td>12.971430</td>\n",
       "      <td>77.639140</td>\n",
       "      <td>0</td>\n",
       "    </tr>\n",
       "    <tr>\n",
       "      <th>4</th>\n",
       "      <td>132517</td>\n",
       "      <td>22180</td>\n",
       "      <td>12</td>\n",
       "      <td>NaN</td>\n",
       "      <td>2</td>\n",
       "      <td>1365.0</td>\n",
       "      <td>849.0</td>\n",
       "      <td>NaN</td>\n",
       "      <td>NaN</td>\n",
       "      <td>1/1/2013 9:00</td>\n",
       "      <td>NaN</td>\n",
       "      <td>0</td>\n",
       "      <td>0</td>\n",
       "      <td>1/1/2013 7:53</td>\n",
       "      <td>12.845653</td>\n",
       "      <td>77.677925</td>\n",
       "      <td>12.954340</td>\n",
       "      <td>77.600720</td>\n",
       "      <td>0</td>\n",
       "    </tr>\n",
       "  </tbody>\n",
       "</table>\n",
       "</div>"
      ],
      "text/plain": [
       "       id  user_id  vehicle_model_id  package_id  travel_type_id  \\\n",
       "0  132512    22177                28         NaN               2   \n",
       "1  132513    21413                12         NaN               2   \n",
       "2  132514    22178                12         NaN               2   \n",
       "3  132515    13034                12         NaN               2   \n",
       "4  132517    22180                12         NaN               2   \n",
       "\n",
       "   from_area_id  to_area_id  from_city_id  to_city_id      from_date to_date  \\\n",
       "0          83.0       448.0           NaN         NaN  1/1/2013 2:00     NaN   \n",
       "1        1010.0       540.0           NaN         NaN  1/1/2013 9:00     NaN   \n",
       "2        1301.0      1034.0           NaN         NaN  1/1/2013 3:30     NaN   \n",
       "3         768.0       398.0           NaN         NaN  1/1/2013 5:45     NaN   \n",
       "4        1365.0       849.0           NaN         NaN  1/1/2013 9:00     NaN   \n",
       "\n",
       "   online_booking  mobile_site_booking booking_created   from_lat  from_long  \\\n",
       "0               0                    0   1/1/2013 1:39  12.924150  77.672290   \n",
       "1               0                    0   1/1/2013 2:25  12.966910  77.749350   \n",
       "2               0                    0   1/1/2013 3:08  12.937222  77.626915   \n",
       "3               0                    0   1/1/2013 4:39  12.989990  77.553320   \n",
       "4               0                    0   1/1/2013 7:53  12.845653  77.677925   \n",
       "\n",
       "      to_lat    to_long  Car_Cancellation  \n",
       "0  12.927320  77.635750                 0  \n",
       "1  12.927680  77.626640                 0  \n",
       "2  13.047926  77.597766                 0  \n",
       "3  12.971430  77.639140                 0  \n",
       "4  12.954340  77.600720                 0  "
      ]
     },
     "execution_count": 3,
     "metadata": {},
     "output_type": "execute_result"
    }
   ],
   "source": [
    "df.head()"
   ]
  },
  {
   "cell_type": "code",
   "execution_count": 5,
   "metadata": {},
   "outputs": [
    {
     "data": {
      "text/plain": [
       "(43431, 19)"
      ]
     },
     "execution_count": 5,
     "metadata": {},
     "output_type": "execute_result"
    }
   ],
   "source": [
    "df.shape"
   ]
  },
  {
   "cell_type": "code",
   "execution_count": 6,
   "metadata": {},
   "outputs": [
    {
     "name": "stdout",
     "output_type": "stream",
     "text": [
      "<class 'pandas.core.frame.DataFrame'>\n",
      "RangeIndex: 43431 entries, 0 to 43430\n",
      "Data columns (total 19 columns):\n",
      "id                     43431 non-null int64\n",
      "user_id                43431 non-null int64\n",
      "vehicle_model_id       43431 non-null int64\n",
      "package_id             7550 non-null float64\n",
      "travel_type_id         43431 non-null int64\n",
      "from_area_id           43343 non-null float64\n",
      "to_area_id             34293 non-null float64\n",
      "from_city_id           16345 non-null float64\n",
      "to_city_id             1588 non-null float64\n",
      "from_date              43431 non-null object\n",
      "to_date                25541 non-null object\n",
      "online_booking         43431 non-null int64\n",
      "mobile_site_booking    43431 non-null int64\n",
      "booking_created        43431 non-null object\n",
      "from_lat               43338 non-null float64\n",
      "from_long              43338 non-null float64\n",
      "to_lat                 34293 non-null float64\n",
      "to_long                34293 non-null float64\n",
      "Car_Cancellation       43431 non-null int64\n",
      "dtypes: float64(9), int64(7), object(3)\n",
      "memory usage: 6.3+ MB\n"
     ]
    }
   ],
   "source": [
    "df.info()"
   ]
  },
  {
   "cell_type": "code",
   "execution_count": 7,
   "metadata": {},
   "outputs": [
    {
     "data": {
      "text/html": [
       "<div>\n",
       "<style scoped>\n",
       "    .dataframe tbody tr th:only-of-type {\n",
       "        vertical-align: middle;\n",
       "    }\n",
       "\n",
       "    .dataframe tbody tr th {\n",
       "        vertical-align: top;\n",
       "    }\n",
       "\n",
       "    .dataframe thead th {\n",
       "        text-align: right;\n",
       "    }\n",
       "</style>\n",
       "<table border=\"1\" class=\"dataframe\">\n",
       "  <thead>\n",
       "    <tr style=\"text-align: right;\">\n",
       "      <th></th>\n",
       "      <th>id</th>\n",
       "      <th>user_id</th>\n",
       "      <th>vehicle_model_id</th>\n",
       "      <th>package_id</th>\n",
       "      <th>travel_type_id</th>\n",
       "      <th>from_area_id</th>\n",
       "      <th>to_area_id</th>\n",
       "      <th>from_city_id</th>\n",
       "      <th>to_city_id</th>\n",
       "      <th>online_booking</th>\n",
       "      <th>mobile_site_booking</th>\n",
       "      <th>from_lat</th>\n",
       "      <th>from_long</th>\n",
       "      <th>to_lat</th>\n",
       "      <th>to_long</th>\n",
       "      <th>Car_Cancellation</th>\n",
       "    </tr>\n",
       "  </thead>\n",
       "  <tbody>\n",
       "    <tr>\n",
       "      <th>count</th>\n",
       "      <td>43431.000000</td>\n",
       "      <td>43431.000000</td>\n",
       "      <td>43431.00000</td>\n",
       "      <td>7550.000000</td>\n",
       "      <td>43431.000000</td>\n",
       "      <td>43343.000000</td>\n",
       "      <td>34293.000000</td>\n",
       "      <td>16345.000000</td>\n",
       "      <td>1588.000000</td>\n",
       "      <td>43431.000000</td>\n",
       "      <td>43431.000000</td>\n",
       "      <td>43338.000000</td>\n",
       "      <td>43338.000000</td>\n",
       "      <td>34293.000000</td>\n",
       "      <td>34293.000000</td>\n",
       "      <td>43431.000000</td>\n",
       "    </tr>\n",
       "    <tr>\n",
       "      <th>mean</th>\n",
       "      <td>159206.473556</td>\n",
       "      <td>30739.198153</td>\n",
       "      <td>25.71723</td>\n",
       "      <td>2.030066</td>\n",
       "      <td>2.137252</td>\n",
       "      <td>714.544494</td>\n",
       "      <td>669.490917</td>\n",
       "      <td>14.915081</td>\n",
       "      <td>68.537783</td>\n",
       "      <td>0.351592</td>\n",
       "      <td>0.043241</td>\n",
       "      <td>12.982461</td>\n",
       "      <td>77.636255</td>\n",
       "      <td>13.026648</td>\n",
       "      <td>77.640595</td>\n",
       "      <td>0.072114</td>\n",
       "    </tr>\n",
       "    <tr>\n",
       "      <th>std</th>\n",
       "      <td>15442.386279</td>\n",
       "      <td>10996.476709</td>\n",
       "      <td>26.79825</td>\n",
       "      <td>1.461756</td>\n",
       "      <td>0.437712</td>\n",
       "      <td>419.883553</td>\n",
       "      <td>400.638225</td>\n",
       "      <td>1.165306</td>\n",
       "      <td>49.880732</td>\n",
       "      <td>0.477473</td>\n",
       "      <td>0.203402</td>\n",
       "      <td>0.085933</td>\n",
       "      <td>0.059391</td>\n",
       "      <td>0.113487</td>\n",
       "      <td>0.064045</td>\n",
       "      <td>0.258680</td>\n",
       "    </tr>\n",
       "    <tr>\n",
       "      <th>min</th>\n",
       "      <td>132512.000000</td>\n",
       "      <td>16.000000</td>\n",
       "      <td>1.00000</td>\n",
       "      <td>1.000000</td>\n",
       "      <td>1.000000</td>\n",
       "      <td>2.000000</td>\n",
       "      <td>2.000000</td>\n",
       "      <td>1.000000</td>\n",
       "      <td>4.000000</td>\n",
       "      <td>0.000000</td>\n",
       "      <td>0.000000</td>\n",
       "      <td>12.776630</td>\n",
       "      <td>77.386930</td>\n",
       "      <td>12.776630</td>\n",
       "      <td>77.386930</td>\n",
       "      <td>0.000000</td>\n",
       "    </tr>\n",
       "    <tr>\n",
       "      <th>25%</th>\n",
       "      <td>145778.000000</td>\n",
       "      <td>24614.000000</td>\n",
       "      <td>12.00000</td>\n",
       "      <td>1.000000</td>\n",
       "      <td>2.000000</td>\n",
       "      <td>393.000000</td>\n",
       "      <td>393.000000</td>\n",
       "      <td>15.000000</td>\n",
       "      <td>32.000000</td>\n",
       "      <td>0.000000</td>\n",
       "      <td>0.000000</td>\n",
       "      <td>12.926450</td>\n",
       "      <td>77.593661</td>\n",
       "      <td>12.951850</td>\n",
       "      <td>77.582030</td>\n",
       "      <td>0.000000</td>\n",
       "    </tr>\n",
       "    <tr>\n",
       "      <th>50%</th>\n",
       "      <td>159248.000000</td>\n",
       "      <td>31627.000000</td>\n",
       "      <td>12.00000</td>\n",
       "      <td>2.000000</td>\n",
       "      <td>2.000000</td>\n",
       "      <td>590.000000</td>\n",
       "      <td>541.000000</td>\n",
       "      <td>15.000000</td>\n",
       "      <td>49.000000</td>\n",
       "      <td>0.000000</td>\n",
       "      <td>0.000000</td>\n",
       "      <td>12.968887</td>\n",
       "      <td>77.635750</td>\n",
       "      <td>12.982750</td>\n",
       "      <td>77.645030</td>\n",
       "      <td>0.000000</td>\n",
       "    </tr>\n",
       "    <tr>\n",
       "      <th>75%</th>\n",
       "      <td>172578.500000</td>\n",
       "      <td>39167.000000</td>\n",
       "      <td>24.00000</td>\n",
       "      <td>2.000000</td>\n",
       "      <td>2.000000</td>\n",
       "      <td>1089.000000</td>\n",
       "      <td>1054.000000</td>\n",
       "      <td>15.000000</td>\n",
       "      <td>108.000000</td>\n",
       "      <td>1.000000</td>\n",
       "      <td>0.000000</td>\n",
       "      <td>13.007750</td>\n",
       "      <td>77.688900</td>\n",
       "      <td>13.199560</td>\n",
       "      <td>77.706880</td>\n",
       "      <td>0.000000</td>\n",
       "    </tr>\n",
       "    <tr>\n",
       "      <th>max</th>\n",
       "      <td>185941.000000</td>\n",
       "      <td>48730.000000</td>\n",
       "      <td>91.00000</td>\n",
       "      <td>7.000000</td>\n",
       "      <td>3.000000</td>\n",
       "      <td>1403.000000</td>\n",
       "      <td>1403.000000</td>\n",
       "      <td>31.000000</td>\n",
       "      <td>203.000000</td>\n",
       "      <td>1.000000</td>\n",
       "      <td>1.000000</td>\n",
       "      <td>13.366072</td>\n",
       "      <td>77.786420</td>\n",
       "      <td>13.366072</td>\n",
       "      <td>77.786420</td>\n",
       "      <td>1.000000</td>\n",
       "    </tr>\n",
       "  </tbody>\n",
       "</table>\n",
       "</div>"
      ],
      "text/plain": [
       "                  id       user_id  vehicle_model_id   package_id  \\\n",
       "count   43431.000000  43431.000000       43431.00000  7550.000000   \n",
       "mean   159206.473556  30739.198153          25.71723     2.030066   \n",
       "std     15442.386279  10996.476709          26.79825     1.461756   \n",
       "min    132512.000000     16.000000           1.00000     1.000000   \n",
       "25%    145778.000000  24614.000000          12.00000     1.000000   \n",
       "50%    159248.000000  31627.000000          12.00000     2.000000   \n",
       "75%    172578.500000  39167.000000          24.00000     2.000000   \n",
       "max    185941.000000  48730.000000          91.00000     7.000000   \n",
       "\n",
       "       travel_type_id  from_area_id    to_area_id  from_city_id   to_city_id  \\\n",
       "count    43431.000000  43343.000000  34293.000000  16345.000000  1588.000000   \n",
       "mean         2.137252    714.544494    669.490917     14.915081    68.537783   \n",
       "std          0.437712    419.883553    400.638225      1.165306    49.880732   \n",
       "min          1.000000      2.000000      2.000000      1.000000     4.000000   \n",
       "25%          2.000000    393.000000    393.000000     15.000000    32.000000   \n",
       "50%          2.000000    590.000000    541.000000     15.000000    49.000000   \n",
       "75%          2.000000   1089.000000   1054.000000     15.000000   108.000000   \n",
       "max          3.000000   1403.000000   1403.000000     31.000000   203.000000   \n",
       "\n",
       "       online_booking  mobile_site_booking      from_lat     from_long  \\\n",
       "count    43431.000000         43431.000000  43338.000000  43338.000000   \n",
       "mean         0.351592             0.043241     12.982461     77.636255   \n",
       "std          0.477473             0.203402      0.085933      0.059391   \n",
       "min          0.000000             0.000000     12.776630     77.386930   \n",
       "25%          0.000000             0.000000     12.926450     77.593661   \n",
       "50%          0.000000             0.000000     12.968887     77.635750   \n",
       "75%          1.000000             0.000000     13.007750     77.688900   \n",
       "max          1.000000             1.000000     13.366072     77.786420   \n",
       "\n",
       "             to_lat       to_long  Car_Cancellation  \n",
       "count  34293.000000  34293.000000      43431.000000  \n",
       "mean      13.026648     77.640595          0.072114  \n",
       "std        0.113487      0.064045          0.258680  \n",
       "min       12.776630     77.386930          0.000000  \n",
       "25%       12.951850     77.582030          0.000000  \n",
       "50%       12.982750     77.645030          0.000000  \n",
       "75%       13.199560     77.706880          0.000000  \n",
       "max       13.366072     77.786420          1.000000  "
      ]
     },
     "execution_count": 7,
     "metadata": {},
     "output_type": "execute_result"
    }
   ],
   "source": [
    "df.describe()"
   ]
  },
  {
   "cell_type": "code",
   "execution_count": 83,
   "metadata": {},
   "outputs": [
    {
     "data": {
      "text/plain": [
       "<matplotlib.axes._subplots.AxesSubplot at 0x1e6c0badeb8>"
      ]
     },
     "execution_count": 83,
     "metadata": {},
     "output_type": "execute_result"
    },
    {
     "data": {
      "image/png": "[encoded data removed]",
      "text/plain": [
       "<Figure size 432x288 with 2 Axes>"
      ]
     },
     "metadata": {
      "needs_background": "light"
     },
     "output_type": "display_data"
    }
   ],
   "source": [
    "sns.heatmap(df.corr())"
   ]
  },
  {
   "cell_type": "code",
   "execution_count": 23,
   "metadata": {},
   "outputs": [
    {
     "data": {
      "text/plain": [
       "43431"
      ]
     },
     "execution_count": 23,
     "metadata": {},
     "output_type": "execute_result"
    }
   ],
   "source": [
    "df['travel_type_id'].count()"
   ]
  },
  {
   "cell_type": "code",
   "execution_count": 24,
   "metadata": {},
   "outputs": [
    {
     "data": {
      "text/plain": [
       "3"
      ]
     },
     "execution_count": 24,
     "metadata": {},
     "output_type": "execute_result"
    }
   ],
   "source": [
    "df['travel_type_id'].nunique()"
   ]
  },
  {
   "cell_type": "code",
   "execution_count": 25,
   "metadata": {},
   "outputs": [
    {
     "data": {
      "text/plain": [
       "array([2, 1, 3], dtype=int64)"
      ]
     },
     "execution_count": 25,
     "metadata": {},
     "output_type": "execute_result"
    }
   ],
   "source": [
    "df['travel_type_id'].unique()"
   ]
  },
  {
   "cell_type": "code",
   "execution_count": 8,
   "metadata": {},
   "outputs": [
    {
     "data": {
      "text/plain": [
       "43343"
      ]
     },
     "execution_count": 8,
     "metadata": {},
     "output_type": "execute_result"
    }
   ],
   "source": [
    "df['from_area_id'].count()"
   ]
  },
  {
   "cell_type": "code",
   "execution_count": 13,
   "metadata": {},
   "outputs": [
    {
     "data": {
      "text/plain": [
       "598"
      ]
     },
     "execution_count": 13,
     "metadata": {},
     "output_type": "execute_result"
    }
   ],
   "source": [
    "df['from_area_id'].nunique()"
   ]
  },
  {
   "cell_type": "code",
   "execution_count": 14,
   "metadata": {},
   "outputs": [
    {
     "data": {
      "text/plain": [
       "array([  83., 1010., 1301.,  768., 1365., 1021.,  571., 1192.,  448.,\n",
       "        516.,  150.,  455., 1166.,  793., 1063., 1102.,  814., 1383.,\n",
       "       1353.,  297.,  471.,   58.,  540., 1286.,  515.,  142.,  393.,\n",
       "         89., 1237.,   61.,  137.,  409., 1062., 1371., 1323., 1017.,\n",
       "        168., 1373.,  373.,  413.,  974., 1374.,  271., 1136., 1033.,\n",
       "        145., 1384.,  105.,  112., 1037., 1040.,  949., 1330.,   87.,\n",
       "       1032.,  217.,  344.,  590., 1086., 1053., 1223.,  963., 1041.,\n",
       "        585., 1322.,  293.,  339., 1194.,  353., 1068.,    6.,  601.,\n",
       "        479., 1084.,  776., 1186.,  253., 1378., 1054.,  466.,  458.,\n",
       "        149.,  167.,  352.,  625.,  849.,  392., 1095.,  463., 1244.,\n",
       "        691.,  484.,  692.,  156., 1083., 1096.,  572.,  767.,  136.,\n",
       "       1155.,  410.,  157.,  689.,  824.,  450., 1085., 1388., 1199.,\n",
       "        197.,  151.,   25.,  541., 1183., 1391., 1015., 1153.,  238.,\n",
       "       1058., 1118.,  667., 1191., 1230.,  912., 1214.,  376.,  499.,\n",
       "        559.,  542.,  115., 1152.,  852., 1217., 1089., 1224.,  363.,\n",
       "        784.,  172., 1044., 1181.,  269.,  292.,   97.,  763., 1056.,\n",
       "       1170.,  994., 1077.,  220.,  396.,  300., 1283.,  296.,  708.,\n",
       "        567.,  218.,  936., 1198., 1337.,  603., 1150.,  452., 1038.,\n",
       "       1111.,  478.,  433.,  171.,  693., 1270.,  561., 1379., 1246.,\n",
       "        214.,  334.,  839., 1189., 1059., 1333.,  529., 1061.,  846.,\n",
       "       1334.,  419.,  418.,  186., 1026., 1298.,  243.,  357.,   95.,\n",
       "       1045.,  184.,   51.,   91., 1159., 1281.,  219., 1294., 1165.,\n",
       "       1232.,  308., 1034., 1122.,  502.,  492., 1375.,  414.,  977.,\n",
       "       1389., 1262.,  871., 1169., 1147.,  677.,  788., 1354.,  789.,\n",
       "       1390.,  391.,   67.,  330., 1229., 1277.,  626., 1351., 1098.,\n",
       "       1197.,  201.,   24., 1052.,  531., 1078., 1101.,  104.,  117.,\n",
       "       1234., 1046., 1013., 1266., 1260., 1239.,  264.,  580., 1338.,\n",
       "       1309.,  141.,  647.,  832.,  934., 1064.,  182., 1108., 1142.,\n",
       "        520.,  355., 1005.,  988., 1190., 1314., 1280.,   85.,  358.,\n",
       "       1182., 1370.,  120., 1173., 1205., 1036., 1071., 1328., 1242.,\n",
       "        873., 1175., 1200., 1259.,  432., 1220.,  953.,  995., 1282.,\n",
       "        422.,  122.,   52., 1082.,  213., 1311.,  147.,   92.,  822.,\n",
       "       1306.,  451., 1348., 1091.,  570., 1364., 1106.,  877., 1359.,\n",
       "       1272., 1133., 1075., 1245., 1279., 1079., 1349.,  791., 1121.,\n",
       "        192.,  467., 1060., 1335.,  190., 1008., 1119., 1263., 1350.,\n",
       "       1163., 1367., 1090.,    2., 1070.,  731.,  206.,  525.,  398.,\n",
       "       1160., 1066., 1154., 1377.,  404., 1130., 1049., 1039., 1382.,\n",
       "        488., 1254., 1376.,  420., 1268.,  945.,  727.,  968., 1255.,\n",
       "       1320.,  118.,  209.,  496., 1057., 1120., 1069.,  417., 1300.,\n",
       "        830.,  766.,  483., 1257., 1207., 1097.,  130.,  730., 1285.,\n",
       "        575., 1157.,  176.,   15.,  905.,  845., 1250., 1126.,  187.,\n",
       "       1317., 1276., 1321.,  722., 1308., 1178., 1238., 1226., 1304.,\n",
       "       1264., 1161., 1248.,  681., 1297., 1274., 1167., 1358., 1327.,\n",
       "         34., 1357.,  758.,  990., 1341., 1072.,  679., 1393., 1325.,\n",
       "       1346., 1099., 1307.,  609., 1340., 1087., 1158., 1296., 1204.,\n",
       "         22., 1336., 1135., 1141.,  212., 1305., 1171.,  119., 1184.,\n",
       "       1347.,  798.,  424., 1125.,  160.,  222.,   16.,   nan, 1361.,\n",
       "       1269.,   50., 1366.,  367.,  833., 1312., 1228.,  637.,  592.,\n",
       "        128., 1218.,  683., 1145., 1012.,   62., 1372.,  278.,  221.,\n",
       "         49.,  548., 1196., 1243., 1249.,  321.,  921.,  211., 1043.,\n",
       "        595.,  195.,  869., 1342.,  750.,  356., 1271., 1107., 1261.,\n",
       "        143.,  362., 1014., 1331., 1303., 1081., 1299., 1074.,  807.,\n",
       "       1310.,  273., 1273.,  888.,  505.,  726., 1339., 1287., 1222.,\n",
       "       1363.,  328., 1225., 1267., 1275., 1291., 1110., 1180., 1318.,\n",
       "       1386., 1315., 1124., 1247., 1025., 1193.,  663.,  207., 1185.,\n",
       "       1313.,  173.,  181., 1295., 1195.,  216., 1123., 1345., 1114.,\n",
       "       1284., 1288., 1258.,  384., 1240., 1293.,  644., 1109.,   72.,\n",
       "       1129., 1324., 1395., 1278., 1394., 1215.,   68., 1332.,  901.,\n",
       "       1292.,  326.,  174., 1355., 1117.,  177.,  549.,  987.,  447.,\n",
       "       1252., 1103., 1042., 1290., 1206.,  611., 1360.,  235., 1143.,\n",
       "       1092., 1168.,  227.,  630.,  200., 1174., 1067., 1100.,  980.,\n",
       "        836., 1265., 1398., 1213., 1380.,  369., 1156., 1004., 1235.,\n",
       "        817., 1209., 1094.,  770., 1289., 1368.,  428., 1385., 1149.,\n",
       "        733., 1369.,  203.,  133., 1076., 1399., 1343., 1208., 1329.,\n",
       "        215., 1352., 1080.,  802., 1381.,   17., 1401., 1113., 1302.,\n",
       "         79.,  138., 1201., 1112., 1216., 1164., 1396., 1253., 1397.,\n",
       "       1148.,  178., 1127.,  185., 1403.])"
      ]
     },
     "execution_count": 14,
     "metadata": {},
     "output_type": "execute_result"
    }
   ],
   "source": [
    "df['from_area_id'].unique()"
   ]
  },
  {
   "cell_type": "code",
   "execution_count": 16,
   "metadata": {},
   "outputs": [
    {
     "data": {
      "text/plain": [
       "393.0     3858\n",
       "571.0     1631\n",
       "293.0     1052\n",
       "585.0      911\n",
       "1010.0     768\n",
       "142.0      727\n",
       "83.0       719\n",
       "1384.0     628\n",
       "1096.0     542\n",
       "58.0       466\n",
       "269.0      413\n",
       "1026.0     395\n",
       "625.0      370\n",
       "1017.0     363\n",
       "1330.0     362\n",
       "689.0      341\n",
       "768.0      334\n",
       "271.0      333\n",
       "1056.0     330\n",
       "1371.0     327\n",
       "1068.0     324\n",
       "363.0      308\n",
       "396.0      289\n",
       "1021.0     279\n",
       "1365.0     273\n",
       "105.0      271\n",
       "410.0      266\n",
       "458.0      261\n",
       "515.0      251\n",
       "776.0      249\n",
       "          ... \n",
       "1209.0       1\n",
       "1277.0       1\n",
       "1042.0       1\n",
       "178.0        1\n",
       "1158.0       1\n",
       "1343.0       1\n",
       "1164.0       1\n",
       "483.0        1\n",
       "802.0        1\n",
       "1113.0       1\n",
       "1215.0       1\n",
       "1127.0       1\n",
       "72.0         1\n",
       "1253.0       1\n",
       "384.0        1\n",
       "770.0        1\n",
       "1092.0       1\n",
       "185.0        1\n",
       "79.0         1\n",
       "215.0        1\n",
       "1235.0       1\n",
       "68.0         1\n",
       "138.0        1\n",
       "369.0        1\n",
       "1252.0       1\n",
       "1178.0       1\n",
       "1265.0       1\n",
       "1345.0       1\n",
       "1094.0       1\n",
       "133.0        1\n",
       "Name: from_area_id, Length: 598, dtype: int64"
      ]
     },
     "execution_count": 16,
     "metadata": {},
     "output_type": "execute_result"
    }
   ],
   "source": [
    "df['from_area_id'].value_counts()"
   ]
  },
  {
   "cell_type": "code",
   "execution_count": 17,
   "metadata": {},
   "outputs": [
    {
     "data": {
      "text/plain": [
       "393.0"
      ]
     },
     "execution_count": 17,
     "metadata": {},
     "output_type": "execute_result"
    }
   ],
   "source": [
    "df['from_area_id'].value_counts().idxmax()"
   ]
  },
  {
   "cell_type": "code",
   "execution_count": 38,
   "metadata": {},
   "outputs": [
    {
     "data": {
      "text/plain": [
       "43431"
      ]
     },
     "execution_count": 38,
     "metadata": {},
     "output_type": "execute_result"
    }
   ],
   "source": [
    "df['from_area_id'].isnull().count()"
   ]
  },
  {
   "cell_type": "code",
   "execution_count": 40,
   "metadata": {},
   "outputs": [],
   "source": [
    "#df['from_area_id'].dropna()"
   ]
  },
  {
   "cell_type": "code",
   "execution_count": 41,
   "metadata": {},
   "outputs": [],
   "source": [
    "#sns.distplot(df['from_area_id']).astype(int) \n",
    "# there are few missing values"
   ]
  },
  {
   "cell_type": "code",
   "execution_count": 18,
   "metadata": {},
   "outputs": [],
   "source": [
    "# Area code 393.0 has highest no of bookings"
   ]
  },
  {
   "cell_type": "code",
   "execution_count": 19,
   "metadata": {},
   "outputs": [
    {
     "data": {
      "text/plain": [
       "568"
      ]
     },
     "execution_count": 19,
     "metadata": {},
     "output_type": "execute_result"
    }
   ],
   "source": [
    "df['to_area_id'].nunique()\n"
   ]
  },
  {
   "cell_type": "code",
   "execution_count": 20,
   "metadata": {},
   "outputs": [
    {
     "data": {
      "text/plain": [
       "393.0     8777\n",
       "585.0     2339\n",
       "1384.0    1237\n",
       "571.0      664\n",
       "293.0      555\n",
       "1010.0     480\n",
       "83.0       365\n",
       "168.0      338\n",
       "1371.0     332\n",
       "452.0      330\n",
       "142.0      326\n",
       "1026.0     319\n",
       "1068.0     313\n",
       "572.0      310\n",
       "1021.0     276\n",
       "392.0      270\n",
       "1192.0     234\n",
       "1017.0     227\n",
       "58.0       220\n",
       "1096.0     217\n",
       "768.0      200\n",
       "271.0      195\n",
       "136.0      187\n",
       "1393.0     185\n",
       "1330.0     180\n",
       "625.0      179\n",
       "455.0      172\n",
       "269.0      166\n",
       "1056.0     164\n",
       "767.0      162\n",
       "          ... \n",
       "1196.0       1\n",
       "1302.0       1\n",
       "133.0        1\n",
       "1266.0       1\n",
       "1042.0       1\n",
       "301.0        1\n",
       "174.0        1\n",
       "1290.0       1\n",
       "262.0        1\n",
       "833.0        1\n",
       "1369.0       1\n",
       "17.0         1\n",
       "428.0        1\n",
       "1113.0       1\n",
       "1118.0       1\n",
       "1252.0       1\n",
       "902.0        1\n",
       "326.0        1\n",
       "201.0        1\n",
       "1356.0       1\n",
       "1233.0       1\n",
       "1201.0       1\n",
       "215.0        1\n",
       "1360.0       1\n",
       "1124.0       1\n",
       "1110.0       1\n",
       "1207.0       1\n",
       "644.0        1\n",
       "1368.0       1\n",
       "1127.0       1\n",
       "Name: to_area_id, Length: 568, dtype: int64"
      ]
     },
     "execution_count": 20,
     "metadata": {},
     "output_type": "execute_result"
    }
   ],
   "source": [
    "df['to_area_id'].value_counts()"
   ]
  },
  {
   "cell_type": "code",
   "execution_count": 21,
   "metadata": {},
   "outputs": [
    {
     "data": {
      "text/plain": [
       "393.0"
      ]
     },
     "execution_count": 21,
     "metadata": {},
     "output_type": "execute_result"
    }
   ],
   "source": [
    "df['to_area_id'].value_counts().idxmax()"
   ]
  },
  {
   "cell_type": "code",
   "execution_count": 22,
   "metadata": {},
   "outputs": [],
   "source": [
    "# highest no of made from 393.0  (i.e 3858 bookings)\n",
    "\n",
    "# highest no of bookings are made to go area 393.0 (i.e 8777 bookings)\n"
   ]
  },
  {
   "cell_type": "code",
   "execution_count": 31,
   "metadata": {},
   "outputs": [
    {
     "data": {
      "text/plain": [
       "(43431,)"
      ]
     },
     "execution_count": 31,
     "metadata": {},
     "output_type": "execute_result"
    }
   ],
   "source": [
    "df['from_date'].shape\n",
    "#from_date      43431 non-null object"
   ]
  },
  {
   "cell_type": "code",
   "execution_count": 42,
   "metadata": {},
   "outputs": [
    {
     "data": {
      "text/plain": [
       "9138"
      ]
     },
     "execution_count": 42,
     "metadata": {},
     "output_type": "execute_result"
    }
   ],
   "source": [
    "#missing values in to_area\n",
    "sum(df.to_area_id.isnull().values.ravel())"
   ]
  },
  {
   "cell_type": "code",
   "execution_count": 43,
   "metadata": {},
   "outputs": [
    {
     "data": {
      "text/plain": [
       "88"
      ]
     },
     "execution_count": 43,
     "metadata": {},
     "output_type": "execute_result"
    }
   ],
   "source": [
    "#missing values in to_area\n",
    "sum(df.from_area_id.isnull().values.ravel())"
   ]
  },
  {
   "cell_type": "code",
   "execution_count": 44,
   "metadata": {},
   "outputs": [
    {
     "data": {
      "text/plain": [
       "0"
      ]
     },
     "execution_count": 44,
     "metadata": {},
     "output_type": "execute_result"
    }
   ],
   "source": [
    "sum(df.from_date.isnull().values.ravel())\n"
   ]
  },
  {
   "cell_type": "code",
   "execution_count": 51,
   "metadata": {},
   "outputs": [
    {
     "data": {
      "text/plain": [
       "12    31859\n",
       "85     2407\n",
       "89     2391\n",
       "65     1912\n",
       "28     1702\n",
       "24     1494\n",
       "87      565\n",
       "90      312\n",
       "23      297\n",
       "86      123\n",
       "10      104\n",
       "64       85\n",
       "54       73\n",
       "17       40\n",
       "91       25\n",
       "30       14\n",
       "36        9\n",
       "13        7\n",
       "43        2\n",
       "72        2\n",
       "1         2\n",
       "75        1\n",
       "76        1\n",
       "39        1\n",
       "70        1\n",
       "69        1\n",
       "14        1\n",
       "Name: vehicle_model_id, dtype: int64"
      ]
     },
     "execution_count": 51,
     "metadata": {},
     "output_type": "execute_result"
    }
   ],
   "source": [
    "df['vehicle_model_id'].value_counts()"
   ]
  },
  {
   "cell_type": "code",
   "execution_count": 50,
   "metadata": {},
   "outputs": [
    {
     "data": {
      "text/plain": [
       "29648    471\n",
       "868      245\n",
       "27458    211\n",
       "32527    202\n",
       "34972    198\n",
       "33002    187\n",
       "29275    185\n",
       "32023    125\n",
       "30290    120\n",
       "38538    105\n",
       "40512    104\n",
       "37192    102\n",
       "20570     96\n",
       "41512     95\n",
       "20598     86\n",
       "29184     84\n",
       "17664     78\n",
       "24042     75\n",
       "23948     74\n",
       "44489     71\n",
       "41644     70\n",
       "45500     65\n",
       "33614     64\n",
       "32599     63\n",
       "33882     63\n",
       "25286     62\n",
       "23775     60\n",
       "41670     59\n",
       "28359     54\n",
       "1256      51\n",
       "        ... \n",
       "48324      1\n",
       "42183      1\n",
       "23768      1\n",
       "29917      1\n",
       "31932      1\n",
       "27870      1\n",
       "25823      1\n",
       "40160      1\n",
       "36066      1\n",
       "34019      1\n",
       "48356      1\n",
       "29885      1\n",
       "23736      1\n",
       "46181      1\n",
       "31900      1\n",
       "44134      1\n",
       "42087      1\n",
       "31868      1\n",
       "25727      1\n",
       "48260      1\n",
       "42119      1\n",
       "29853      1\n",
       "44198      1\n",
       "27806      1\n",
       "25759      1\n",
       "38049      1\n",
       "36002      1\n",
       "48292      1\n",
       "46245      1\n",
       "8196       1\n",
       "Name: user_id, Length: 22267, dtype: int64"
      ]
     },
     "execution_count": 50,
     "metadata": {},
     "output_type": "execute_result"
    }
   ],
   "source": [
    "# NO of users\n",
    "df['user_id'].value_counts()\n"
   ]
  },
  {
   "cell_type": "code",
   "execution_count": 48,
   "metadata": {},
   "outputs": [
    {
     "data": {
      "text/plain": [
       "0    40299\n",
       "1     3132\n",
       "Name: Car_Cancellation, dtype: int64"
      ]
     },
     "execution_count": 48,
     "metadata": {},
     "output_type": "execute_result"
    }
   ],
   "source": [
    "#car cancellation\n",
    "df['Car_Cancellation'].value_counts()\n",
    "#Total bookings 43431 \n",
    "# Accepted bookings 40299 92.7%\n",
    "# cancelled bookings 3132 7.3%\n"
   ]
  },
  {
   "cell_type": "code",
   "execution_count": 53,
   "metadata": {},
   "outputs": [],
   "source": [
    "new_df =df[['user_id','from_area_id','to_area_id','from_date','Car_Cancellation']]"
   ]
  },
  {
   "cell_type": "code",
   "execution_count": 55,
   "metadata": {},
   "outputs": [
    {
     "data": {
      "text/html": [
       "<div>\n",
       "<style scoped>\n",
       "    .dataframe tbody tr th:only-of-type {\n",
       "        vertical-align: middle;\n",
       "    }\n",
       "\n",
       "    .dataframe tbody tr th {\n",
       "        vertical-align: top;\n",
       "    }\n",
       "\n",
       "    .dataframe thead th {\n",
       "        text-align: right;\n",
       "    }\n",
       "</style>\n",
       "<table border=\"1\" class=\"dataframe\">\n",
       "  <thead>\n",
       "    <tr style=\"text-align: right;\">\n",
       "      <th></th>\n",
       "      <th>user_id</th>\n",
       "      <th>from_area_id</th>\n",
       "      <th>to_area_id</th>\n",
       "      <th>from_date</th>\n",
       "      <th>Car_Cancellation</th>\n",
       "    </tr>\n",
       "  </thead>\n",
       "  <tbody>\n",
       "    <tr>\n",
       "      <th>0</th>\n",
       "      <td>22177</td>\n",
       "      <td>83.0</td>\n",
       "      <td>448.0</td>\n",
       "      <td>1/1/2013 2:00</td>\n",
       "      <td>0</td>\n",
       "    </tr>\n",
       "    <tr>\n",
       "      <th>1</th>\n",
       "      <td>21413</td>\n",
       "      <td>1010.0</td>\n",
       "      <td>540.0</td>\n",
       "      <td>1/1/2013 9:00</td>\n",
       "      <td>0</td>\n",
       "    </tr>\n",
       "    <tr>\n",
       "      <th>2</th>\n",
       "      <td>22178</td>\n",
       "      <td>1301.0</td>\n",
       "      <td>1034.0</td>\n",
       "      <td>1/1/2013 3:30</td>\n",
       "      <td>0</td>\n",
       "    </tr>\n",
       "    <tr>\n",
       "      <th>3</th>\n",
       "      <td>13034</td>\n",
       "      <td>768.0</td>\n",
       "      <td>398.0</td>\n",
       "      <td>1/1/2013 5:45</td>\n",
       "      <td>0</td>\n",
       "    </tr>\n",
       "    <tr>\n",
       "      <th>4</th>\n",
       "      <td>22180</td>\n",
       "      <td>1365.0</td>\n",
       "      <td>849.0</td>\n",
       "      <td>1/1/2013 9:00</td>\n",
       "      <td>0</td>\n",
       "    </tr>\n",
       "  </tbody>\n",
       "</table>\n",
       "</div>"
      ],
      "text/plain": [
       "   user_id  from_area_id  to_area_id      from_date  Car_Cancellation\n",
       "0    22177          83.0       448.0  1/1/2013 2:00                 0\n",
       "1    21413        1010.0       540.0  1/1/2013 9:00                 0\n",
       "2    22178        1301.0      1034.0  1/1/2013 3:30                 0\n",
       "3    13034         768.0       398.0  1/1/2013 5:45                 0\n",
       "4    22180        1365.0       849.0  1/1/2013 9:00                 0"
      ]
     },
     "execution_count": 55,
     "metadata": {},
     "output_type": "execute_result"
    }
   ],
   "source": [
    "new_df.head()"
   ]
  },
  {
   "cell_type": "code",
   "execution_count": 70,
   "metadata": {},
   "outputs": [],
   "source": [
    "new_df_1=new_df.dropna()"
   ]
  },
  {
   "cell_type": "code",
   "execution_count": 75,
   "metadata": {},
   "outputs": [
    {
     "data": {
      "text/html": [
       "<div>\n",
       "<style scoped>\n",
       "    .dataframe tbody tr th:only-of-type {\n",
       "        vertical-align: middle;\n",
       "    }\n",
       "\n",
       "    .dataframe tbody tr th {\n",
       "        vertical-align: top;\n",
       "    }\n",
       "\n",
       "    .dataframe thead th {\n",
       "        text-align: right;\n",
       "    }\n",
       "</style>\n",
       "<table border=\"1\" class=\"dataframe\">\n",
       "  <thead>\n",
       "    <tr style=\"text-align: right;\">\n",
       "      <th></th>\n",
       "      <th>user_id</th>\n",
       "      <th>from_area_id</th>\n",
       "      <th>to_area_id</th>\n",
       "      <th>from_date</th>\n",
       "      <th>Car_Cancellation</th>\n",
       "    </tr>\n",
       "  </thead>\n",
       "  <tbody>\n",
       "    <tr>\n",
       "      <th>0</th>\n",
       "      <td>22177</td>\n",
       "      <td>83.0</td>\n",
       "      <td>448.0</td>\n",
       "      <td>1/1/2013 2:00</td>\n",
       "      <td>0</td>\n",
       "    </tr>\n",
       "    <tr>\n",
       "      <th>1</th>\n",
       "      <td>21413</td>\n",
       "      <td>1010.0</td>\n",
       "      <td>540.0</td>\n",
       "      <td>1/1/2013 9:00</td>\n",
       "      <td>0</td>\n",
       "    </tr>\n",
       "    <tr>\n",
       "      <th>2</th>\n",
       "      <td>22178</td>\n",
       "      <td>1301.0</td>\n",
       "      <td>1034.0</td>\n",
       "      <td>1/1/2013 3:30</td>\n",
       "      <td>0</td>\n",
       "    </tr>\n",
       "    <tr>\n",
       "      <th>3</th>\n",
       "      <td>13034</td>\n",
       "      <td>768.0</td>\n",
       "      <td>398.0</td>\n",
       "      <td>1/1/2013 5:45</td>\n",
       "      <td>0</td>\n",
       "    </tr>\n",
       "    <tr>\n",
       "      <th>4</th>\n",
       "      <td>22180</td>\n",
       "      <td>1365.0</td>\n",
       "      <td>849.0</td>\n",
       "      <td>1/1/2013 9:00</td>\n",
       "      <td>0</td>\n",
       "    </tr>\n",
       "  </tbody>\n",
       "</table>\n",
       "</div>"
      ],
      "text/plain": [
       "   user_id  from_area_id  to_area_id      from_date  Car_Cancellation\n",
       "0    22177          83.0       448.0  1/1/2013 2:00                 0\n",
       "1    21413        1010.0       540.0  1/1/2013 9:00                 0\n",
       "2    22178        1301.0      1034.0  1/1/2013 3:30                 0\n",
       "3    13034         768.0       398.0  1/1/2013 5:45                 0\n",
       "4    22180        1365.0       849.0  1/1/2013 9:00                 0"
      ]
     },
     "execution_count": 75,
     "metadata": {},
     "output_type": "execute_result"
    }
   ],
   "source": [
    "new_df_1.head()"
   ]
  },
  {
   "cell_type": "code",
   "execution_count": 79,
   "metadata": {},
   "outputs": [
    {
     "data": {
      "text/plain": [
       "<matplotlib.axes._subplots.AxesSubplot at 0x1e6c0a0eef0>"
      ]
     },
     "execution_count": 79,
     "metadata": {},
     "output_type": "execute_result"
    },
    {
     "data": {
      "image/png": "[encoded data removed]",
      "text/plain": [
       "<Figure size 432x288 with 1 Axes>"
      ]
     },
     "metadata": {
      "needs_background": "light"
     },
     "output_type": "display_data"
    }
   ],
   "source": [
    "sns.distplot(new_df_1['from_area_id'], kde=False , bins=20, color='b')"
   ]
  },
  {
   "cell_type": "code",
   "execution_count": null,
   "metadata": {},
   "outputs": [],
   "source": []
  },
  {
   "cell_type": "code",
   "execution_count": 76,
   "metadata": {},
   "outputs": [
    {
     "data": {
      "text/plain": [
       "<matplotlib.axes._subplots.AxesSubplot at 0x1e6c08e79b0>"
      ]
     },
     "execution_count": 76,
     "metadata": {},
     "output_type": "execute_result"
    },
    {
     "data": {
      "image/png": "[encoded data removed]",
      "text/plain": [
       "<Figure size 432x288 with 1 Axes>"
      ]
     },
     "metadata": {
      "needs_background": "light"
     },
     "output_type": "display_data"
    }
   ],
   "source": [
    "sns.distplot(new_df_1['to_area_id'], kde=False , bins=20)"
   ]
  },
  {
   "cell_type": "code",
   "execution_count": 77,
   "metadata": {},
   "outputs": [
    {
     "data": {
      "text/html": [
       "<div>\n",
       "<style scoped>\n",
       "    .dataframe tbody tr th:only-of-type {\n",
       "        vertical-align: middle;\n",
       "    }\n",
       "\n",
       "    .dataframe tbody tr th {\n",
       "        vertical-align: top;\n",
       "    }\n",
       "\n",
       "    .dataframe thead th {\n",
       "        text-align: right;\n",
       "    }\n",
       "</style>\n",
       "<table border=\"1\" class=\"dataframe\">\n",
       "  <thead>\n",
       "    <tr style=\"text-align: right;\">\n",
       "      <th></th>\n",
       "      <th>user_id</th>\n",
       "      <th>from_area_id</th>\n",
       "      <th>to_area_id</th>\n",
       "      <th>Car_Cancellation</th>\n",
       "    </tr>\n",
       "  </thead>\n",
       "  <tbody>\n",
       "    <tr>\n",
       "      <th>user_id</th>\n",
       "      <td>1.000000</td>\n",
       "      <td>0.015147</td>\n",
       "      <td>0.008703</td>\n",
       "      <td>0.111034</td>\n",
       "    </tr>\n",
       "    <tr>\n",
       "      <th>from_area_id</th>\n",
       "      <td>0.015147</td>\n",
       "      <td>1.000000</td>\n",
       "      <td>0.007327</td>\n",
       "      <td>0.018134</td>\n",
       "    </tr>\n",
       "    <tr>\n",
       "      <th>to_area_id</th>\n",
       "      <td>0.008703</td>\n",
       "      <td>0.007327</td>\n",
       "      <td>1.000000</td>\n",
       "      <td>0.066088</td>\n",
       "    </tr>\n",
       "    <tr>\n",
       "      <th>Car_Cancellation</th>\n",
       "      <td>0.111034</td>\n",
       "      <td>0.018134</td>\n",
       "      <td>0.066088</td>\n",
       "      <td>1.000000</td>\n",
       "    </tr>\n",
       "  </tbody>\n",
       "</table>\n",
       "</div>"
      ],
      "text/plain": [
       "                   user_id  from_area_id  to_area_id  Car_Cancellation\n",
       "user_id           1.000000      0.015147    0.008703          0.111034\n",
       "from_area_id      0.015147      1.000000    0.007327          0.018134\n",
       "to_area_id        0.008703      0.007327    1.000000          0.066088\n",
       "Car_Cancellation  0.111034      0.018134    0.066088          1.000000"
      ]
     },
     "execution_count": 77,
     "metadata": {},
     "output_type": "execute_result"
    }
   ],
   "source": [
    "new_df_1.corr()"
   ]
  },
  {
   "cell_type": "code",
   "execution_count": 81,
   "metadata": {},
   "outputs": [
    {
     "data": {
      "text/plain": [
       "<matplotlib.axes._subplots.AxesSubplot at 0x1e6c253c0b8>"
      ]
     },
     "execution_count": 81,
     "metadata": {},
     "output_type": "execute_result"
    },
    {
     "data": {
      "image/png": "[encoded data removed]",
      "text/plain": [
       "<Figure size 432x288 with 2 Axes>"
      ]
     },
     "metadata": {
      "needs_background": "light"
     },
     "output_type": "display_data"
    }
   ],
   "source": [
    "sns.heatmap(new_df_1.corr())"
   ]
  },
  {
   "cell_type": "code",
   "execution_count": 85,
   "metadata": {},
   "outputs": [],
   "source": [
    "new_df_1['from_date'] = pd.to_datetime(new_df_1['from_date'])"
   ]
  },
  {
   "cell_type": "code",
   "execution_count": 86,
   "metadata": {},
   "outputs": [
    {
     "name": "stdout",
     "output_type": "stream",
     "text": [
      "<class 'pandas.core.frame.DataFrame'>\n",
      "Int64Index: 34293 entries, 0 to 43430\n",
      "Data columns (total 5 columns):\n",
      "user_id             34293 non-null int64\n",
      "from_area_id        34293 non-null float64\n",
      "to_area_id          34293 non-null float64\n",
      "from_date           34293 non-null datetime64[ns]\n",
      "Car_Cancellation    34293 non-null int64\n",
      "dtypes: datetime64[ns](1), float64(2), int64(2)\n",
      "memory usage: 1.6 MB\n"
     ]
    }
   ],
   "source": [
    "new_df_1.info()"
   ]
  },
  {
   "cell_type": "code",
   "execution_count": 89,
   "metadata": {},
   "outputs": [
    {
     "data": {
      "text/plain": [
       "<matplotlib.axes._subplots.AxesSubplot at 0x1e6c24db1d0>"
      ]
     },
     "execution_count": 89,
     "metadata": {},
     "output_type": "execute_result"
    },
    {
     "data": {
      "image/png": "[encoded data removed]",
      "text/plain": [
       "<Figure size 432x288 with 1 Axes>"
      ]
     },
     "metadata": {
      "needs_background": "light"
     },
     "output_type": "display_data"
    }
   ],
   "source": [
    "sns.distplot(new_df_1['from_date'], kde=False , bins=50, color='b')"
   ]
  },
  {
   "cell_type": "code",
   "execution_count": 105,
   "metadata": {},
   "outputs": [
    {
     "name": "stdout",
     "output_type": "stream",
     "text": [
      "Month Distribute: 1     2305\n",
      "2     2354\n",
      "3     2151\n",
      "4     2439\n",
      "5     3312\n",
      "6     3411\n",
      "7     4019\n",
      "8     4417\n",
      "9     3651\n",
      "10    3734\n",
      "11    2484\n",
      "12      16\n",
      "Name: from_date, dtype: int64\n"
     ]
    },
    {
     "data": {
      "image/png": "[encoded data removed]",
      "text/plain": [
       "<Figure size 432x288 with 1 Axes>"
      ]
     },
     "metadata": {
      "needs_background": "light"
     },
     "output_type": "display_data"
    }
   ],
   "source": [
    "#Monthly Ride Distribution\n",
    "new_df_1[\"from_date\"]=pd.to_datetime(new_df_1[\"from_date\"],format=\"%m/%d/%Y %H:%M\")\n",
    "sd_m_dis=new_df_1[\"from_date\"].dt.month.value_counts()\n",
    "sd_m_dis=sd_m_dis.sort_index()\n",
    "sd_m_mean=sd_m_dis.mean()\n",
    "print(\"Month Distribute:\",sd_m_dis)\n",
    "def autolabel(rects):\n",
    "    for rect in rects:\n",
    "        height = rect.get_height()\n",
    "        plt.text(rect.get_x()+rect.get_width()/2., 1.03*height, '%s' % int(height))\n",
    "\n",
    "rects=plt.bar(sd_m_dis.index,sd_m_dis.values)\n",
    "plt.plot([0,len(sd_m_dis.index)+1],[sd_m_mean,sd_m_mean],\"r--\")\n",
    "plt.title(\"FROM_DATE DISTRIBUTE\")\n",
    "plt.xlabel(\"Month\")\n",
    "plt.ylabel(\"Driving Times\")\n",
    "plt.grid()\n",
    "autolabel(rects)\n",
    "plt.savefig(\"./sd_m_dis_fig\")"
   ]
  },
  {
   "cell_type": "code",
   "execution_count": 107,
   "metadata": {},
   "outputs": [
    {
     "name": "stdout",
     "output_type": "stream",
     "text": [
      "Hours Distribute: 0      500\n",
      "1      348\n",
      "2      463\n",
      "3     1600\n",
      "4     1783\n",
      "5     1657\n",
      "6     1526\n",
      "7     1890\n",
      "8     2267\n",
      "9     2052\n",
      "10    1417\n",
      "11    1020\n",
      "12    1236\n",
      "13    1047\n",
      "14    1021\n",
      "15    1096\n",
      "16    1615\n",
      "17    2301\n",
      "18    2178\n",
      "19    1725\n",
      "20    1611\n",
      "21    1381\n",
      "22    1389\n",
      "23    1170\n",
      "Name: from_date, dtype: int64\n"
     ]
    },
    {
     "data": {
      "image/png": "[encoded data removed]",
      "text/plain": [
       "<Figure size 432x288 with 1 Axes>"
      ]
     },
     "metadata": {
      "needs_background": "light"
     },
     "output_type": "display_data"
    }
   ],
   "source": [
    "#Hourly Ride Distribution\n",
    "sd_h_dis=new_df_1[\"from_date\"].dt.hour.value_counts()\n",
    "sd_h_dis=sd_h_dis.sort_index()\n",
    "print(\"Hours Distribute:\",sd_h_dis)\n",
    "sd_h_mean=sd_h_dis.mean()\n",
    "\n",
    "rects=plt.bar(sd_h_dis.index,sd_h_dis.values)\n",
    "plt.plot([0,len(sd_h_dis.index)+1],[sd_h_mean,sd_h_mean],\"r--\")\n",
    "plt.title(\"FROM_DATE(Hours) DISTRIBUTE\")\n",
    "plt.xlabel(\"Hours\")\n",
    "plt.ylabel(\"Driving Times\")\n",
    "plt.grid()\n",
    "autolabel(rects)\n",
    "plt.savefig(\"./sd_h_dis_fig\")"
   ]
  },
  {
   "cell_type": "markdown",
   "metadata": {},
   "source": [
    "# Complete Analysis of Trips\n",
    "\n",
    "## Top 10 Areas from which bookings are made\n",
    "Area-id  no-of-bookings\n",
    "393.0     3858\n",
    "\n",
    "571.0     1631\n",
    "\n",
    "293.0     1052\n",
    "\n",
    "585.0      911\n",
    "\n",
    "1010.0     768\n",
    "\n",
    "142.0      727\n",
    "\n",
    "83.0       719\n",
    "\n",
    "1384.0     628\n",
    "\n",
    "1096.0     542\n",
    "\n",
    "58.0       466\n",
    "\n",
    "## Top 10 Areas(Destinations) to which bookings are made\n",
    "Area-id  no-of-bookings\n",
    "393.0     8777\n",
    "\n",
    "585.0     2339\n",
    "\n",
    "1384.0    1237\n",
    "\n",
    "571.0      664\n",
    "\n",
    "293.0      555\n",
    "\n",
    "1010.0     480\n",
    "\n",
    "83.0       365\n",
    "\n",
    "168.0      338\n",
    "\n",
    "1371.0     332\n",
    "\n",
    "452.0      330\n",
    "\n",
    "## Top 10 users who frequently use XRIDES \n",
    "User-id  No-of-Bookings\n",
    "\n",
    "29648    471\n",
    "\n",
    "868      245\n",
    "\n",
    "27458    211\n",
    "\n",
    "32527    202\n",
    "\n",
    "34972    198\n",
    "\n",
    "33002    187\n",
    "\n",
    "29275    185\n",
    "\n",
    "32023    125\n",
    "\n",
    "30290    120\n",
    "\n",
    "38538    105\n",
    "\n",
    "40512    104\n",
    "\n",
    "37192    102\n",
    "## Total bookings 43431 \n",
    "### Accepted bookings 40299 92.7%\n",
    "### cancelled bookings 3132 7.3%\n",
    "\n",
    "## Monthly Ride Bookings with peak months 7 and 8\n",
    "Month  No-of-bookings\n",
    "1     2305\n",
    "\n",
    "2     2354\n",
    "\n",
    "3     2151\n",
    "\n",
    "4     2439\n",
    "\n",
    "5     3312\n",
    "\n",
    "6     3411\n",
    "\n",
    "7     4019\n",
    "\n",
    "8     4417\n",
    "\n",
    "9     3651\n",
    "\n",
    "10    3734\n",
    "\n",
    "11    2484\n",
    "\n",
    "12      16\n",
    "\n",
    "## Hourly Ride bookings (Peak hours 8:00am,9:00am,5:00pm,6:00pm)\n",
    "Hour  No-of-bookings\n",
    "0      500\n",
    "\n",
    "1      348\n",
    "\n",
    "2      463\n",
    "\n",
    "3     1600\n",
    "\n",
    "4     1783\n",
    "\n",
    "5     1657\n",
    "\n",
    "6     1526\n",
    "\n",
    "7     1890\n",
    "\n",
    "8     2267\n",
    "\n",
    "9     2052\n",
    "\n",
    "10    1417\n",
    "\n",
    "11    1020\n",
    "\n",
    "12    1236\n",
    "\n",
    "13    1047\n",
    "\n",
    "14    1021\n",
    "\n",
    "15    1096\n",
    "\n",
    "16    1615\n",
    "\n",
    "17    2301\n",
    "\n",
    "18    2178\n",
    "\n",
    "19    1725\n",
    "\n",
    "20    1611\n",
    "\n",
    "21    1381\n",
    "\n",
    "22    1389\n",
    "\n",
    "23    1170\n"
   ]
  }
 ],
 "metadata": {
  "kernelspec": {
   "display_name": "Python 3",
   "language": "python",
   "name": "python3"
  },
  "language_info": {
   "codemirror_mode": {
    "name": "ipython",
    "version": 3
   },
   "file_extension": ".py",
   "mimetype": "text/x-python",
   "name": "python",
   "nbconvert_exporter": "python",
   "pygments_lexer": "ipython3",
   "version": "3.7.3"
  }
 },
 "nbformat": 4,
 "nbformat_minor": 2
}
